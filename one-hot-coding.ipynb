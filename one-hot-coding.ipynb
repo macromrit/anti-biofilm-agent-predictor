{
 "cells": [
  {
   "cell_type": "code",
   "execution_count": 28,
   "id": "d005f840",
   "metadata": {},
   "outputs": [
    {
     "name": "stdout",
     "output_type": "stream",
     "text": [
      "Requirement already satisfied: numpy in c:\\users\\arun\\anaconda3\\lib\\site-packages (1.23.5)\n"
     ]
    }
   ],
   "source": [
    "!pip install numpy"
   ]
  },
  {
   "cell_type": "code",
   "execution_count": 29,
   "id": "230b34ff",
   "metadata": {},
   "outputs": [
    {
     "name": "stdout",
     "output_type": "stream",
     "text": [
      "Requirement already satisfied: pandas in c:\\users\\arun\\anaconda3\\lib\\site-packages (1.5.3)\n",
      "Requirement already satisfied: pytz>=2020.1 in c:\\users\\arun\\anaconda3\\lib\\site-packages (from pandas) (2022.7)\n",
      "Requirement already satisfied: numpy>=1.21.0 in c:\\users\\arun\\anaconda3\\lib\\site-packages (from pandas) (1.23.5)\n",
      "Requirement already satisfied: python-dateutil>=2.8.1 in c:\\users\\arun\\anaconda3\\lib\\site-packages (from pandas) (2.8.2)\n",
      "Requirement already satisfied: six>=1.5 in c:\\users\\arun\\anaconda3\\lib\\site-packages (from python-dateutil>=2.8.1->pandas) (1.16.0)\n"
     ]
    }
   ],
   "source": [
    "!pip install pandas"
   ]
  },
  {
   "cell_type": "code",
   "execution_count": 30,
   "id": "6ce1ed1b",
   "metadata": {},
   "outputs": [
    {
     "name": "stdout",
     "output_type": "stream",
     "text": [
      "Requirement already satisfied: scikit-learn in c:\\users\\arun\\anaconda3\\lib\\site-packages (1.2.1)\n",
      "Requirement already satisfied: threadpoolctl>=2.0.0 in c:\\users\\arun\\anaconda3\\lib\\site-packages (from scikit-learn) (2.2.0)\n",
      "Requirement already satisfied: joblib>=1.1.1 in c:\\users\\arun\\anaconda3\\lib\\site-packages (from scikit-learn) (1.1.1)\n",
      "Requirement already satisfied: numpy>=1.17.3 in c:\\users\\arun\\anaconda3\\lib\\site-packages (from scikit-learn) (1.23.5)\n",
      "Requirement already satisfied: scipy>=1.3.2 in c:\\users\\arun\\anaconda3\\lib\\site-packages (from scikit-learn) (1.10.0)\n"
     ]
    }
   ],
   "source": [
    "!pip install scikit-learn"
   ]
  },
  {
   "cell_type": "code",
   "execution_count": 5,
   "id": "e7e62900",
   "metadata": {},
   "outputs": [],
   "source": [
    "# one hot code generator\n",
    "import csv\n",
    "import numpy as np\n",
    "import matplotlib.pyplot as plt  # To visualize\n",
    "import pandas as pd  # To read data\n",
    "from sklearn.linear_model import LinearRegression\n",
    "from sklearn.model_selection import train_test_split\n",
    "from sklearn.tree import DecisionTreeRegressor \n",
    "from sklearn.ensemble import RandomForestRegressor\n",
    "from sklearn.metrics import r2_score"
   ]
  },
  {
   "cell_type": "code",
   "execution_count": 6,
   "id": "ba69273a",
   "metadata": {},
   "outputs": [],
   "source": [
    "with open(\"finalized_processed_dataset.csv\", \"r\") as jammer:\n",
    "    reader = list(csv.reader(jammer, delimiter=\",\"))[1:]\n",
    "    inhibition_values = list(map(lambda x : float(x[6].strip()) , reader))\n",
    "    final_ans = list(map(lambda x : x[10].strip() , reader))\n",
    "# reader"
   ]
  },
  {
   "cell_type": "code",
   "execution_count": 7,
   "id": "0e631a3f",
   "metadata": {},
   "outputs": [],
   "source": [
    "# smiles_collection = [\"CC=C#C\", \"CC&C+C\"] # this will be a list read from csv containing all smiles found\n",
    "smiles_collection = final_ans\n",
    "# smiles_collection\n",
    "# inhibition_values"
   ]
  },
  {
   "cell_type": "code",
   "execution_count": 8,
   "id": "3b972312",
   "metadata": {},
   "outputs": [],
   "source": [
    "# smiles are strings, to add on whene elements are read from a csv file, every row would be an array and every col would \\\n",
    "# be a string irrespective of its type at start.\n",
    "\n",
    "# to get all (char's/fields) possible out of smiles generated and have them as keys of agent' smiles\n",
    "# since everythings a string, join those with zero spaces and put them into a set\n",
    "\n",
    "def generateFields(smiles_collection: list) -> list:\n",
    "    \"\"\"\n",
    "    return Type -> set\n",
    "    \n",
    "    args:\n",
    "        smiles_collection : list -> to obtain an iterable / list of smiles\n",
    "        \n",
    "    objective: \n",
    "        to take unique characters of pooling all strings/smiles together and\n",
    "        retrieve a list containing unique chars used, which's sorted (based on ascii vals)\n",
    "    \"\"\"\n",
    "    return sorted(set(''.join(smiles_collection)))\n",
    "\n",
    "# generateFields(smiles_collection)"
   ]
  },
  {
   "cell_type": "code",
   "execution_count": 9,
   "id": "968fcad7",
   "metadata": {},
   "outputs": [],
   "source": [
    "def generateHotCode(smiles: str, field_generated: list) -> list:\n",
    "    \"\"\"\n",
    "    return Type -> list\n",
    "    \n",
    "    args:\n",
    "        smiles : str -> represents the smiles fed to function call\n",
    "        field_generated : list -> collection of ordered unique chars in smiles set, used for generating onehotcodes\n",
    "    \n",
    "    objective:\n",
    "        when a string / smiles is fed to the function it contrives a new list and assign high(1) low(0) values\n",
    "        to the list index corresponding to indexes of fields generated\n",
    "    \"\"\"\n",
    "    \n",
    "    # traverse through field_generated and check whether every char exists or not -> if exist 1 else 0\n",
    "    return list(map(lambda x : int(x in smiles), field_generated))\n",
    "\n",
    "# generateHotCode(\"CC=#\", [\"#\", \"&\", \"+\", \"=\", \"C\"])"
   ]
  },
  {
   "cell_type": "code",
   "execution_count": 20,
   "id": "0b637ad2",
   "metadata": {},
   "outputs": [
    {
     "data": {
      "text/plain": [
       "{'c3ccc2cc1ccccc1cc2c3': '000000111000000000000010000',\n",
       " 'CCCCCCCC(=O)OCCC': '011000000001010001000000000',\n",
       " 'CCCCCCCCCCCCCC(O)=O': '011000000001010001000000000',\n",
       " 'COc2cc(C=CC(=O)CC(=O)C=Cc1ccc(O)c(OC)c1)ccc2O': '011000110001010001000010000',\n",
       " 'N#CCc1ccccc1': '100000100000010010000010000',\n",
       " 'Oc1ccc(cc1)C3CC(=O)c2c(O)cc(O)cc2O3': '011000111001010001000010000',\n",
       " 'OCC5OC(Oc3cccc4C(C1OC(CO)C(O)C(O)C1O)c2cc(CO)cc(O)c2C(=O)c34)C(O)C(O)C5O': '011000111111010001000010000',\n",
       " 'COc1ccc(cc1O)C5CC(=O)c4c(O)cc(OC3OC(COC2OC(C)C(O)C(O)C2O)C(O)C(O)C3O)cc4O5': '011000111111010001000010000',\n",
       " 'Oc2cc(O)c1c(=O)c(O)c(oc1c2)c3ccc(O)c(O)c3': '011000111001000001000010001',\n",
       " 'OCC1OC(C(O)C(O)C1O)c4c(O)c(C2OC(CO)C(O)C(O)C2O)c3oc(cc(=O)c3c4O)c5ccc(O)c(O)c5': '011000111111010001000010001',\n",
       " 'Oc2cc(O)c1c(=O)cc(oc1c2)c3ccc(O)c(O)c3': '011000111001000001000010001',\n",
       " 'Oc1ccc(cc1)c3cc(=O)c2c(O)cc(O)cc2o3': '011000111001000001000010001',\n",
       " 'COc2cc1oc(cc(=O)c1cc2OC)c3cc(OC)c(OC)c(OC)c3': '011000111001010001000010001',\n",
       " 'CN(C)CCNCCN': '011000000000010010000000000',\n",
       " 'CC3(C)Oc2ccc1ccc(=O)oc1c2C=C3': '011000111001010001000010001',\n",
       " 'CC5CCC4(CCC2(C)C(=CCC3C1(C)CCC(O)C(C)(C)C1CCC23C)C4C5C)C(O)=O': '011000111111010001000000000',\n",
       " 'CC(=O)Oc1ccccc1C(O)=O': '011000100001010001000010000',\n",
       " 'OC(=O)C=Cc1ccc(O)cc1': '011000100001010001000010000',\n",
       " 'CCOC(=O)c1ccccc1C(O)=O': '011000100001010001000010000',\n",
       " 'COc1cc(C=CC(O)=O)cc(OC)c1O': '011000100001010001000010000',\n",
       " 'c2cccc1ccccccc1cc2': '000000110000000000000010000',\n",
       " 'COc1cc(cc(OC)c1O)C(O)=O': '011000100001010001000010000',\n",
       " 'COc1cc(ccc1O)C(O)=O': '011000100001010001000010000',\n",
       " 'C21H22O4': '000000110100010101000000000',\n",
       " 'CCC(CCC(C)C3CCC4C2CC=C1CC(CCC1(C)C2CCC34C)OC5OC(CO)C(O)C(O)C5O)C(C)C': '011000111111010001000000000',\n",
       " 'COc1ccc(cc1OC)c3cc(=O)c2c(OC)c(OC)c(OC)c(OC)c2o3': '011000111001010001000010001',\n",
       " 'COc1ccc(cc1OC)c3oc2c(OC)c(OC)c(OC)c(OC)c2c(=O)c3OC': '011000111001010001000010001',\n",
       " 'COc3cc2C=Cc1c(O)cccc1Oc2c(O)c3C': '011000111001010001000010000',\n",
       " 'Clc1cccc(NN=C(C#N)C#N)c1': '111000100001010010000010100',\n",
       " 'COc1cc(OC)cc(c1)N(CCNC(C)C)c3ccc2ncc(nc2c3)c4cnn(C)c4': '011000111100010011000010010',\n",
       " 'CN(C)CCCN2c1ccccc1Sc3ccc(Cl)cc23': '011000111000010010100010100',\n",
       " 'c2cc1nocc1o2': '000000110000000000000010011',\n",
       " 'OC(=O)c1cc(O)c(O)c(O)c1': '011000100001010001000010000',\n",
       " 'O=[Zn]': '000000000001000001011100010',\n",
       " 'Oc1ccc(cc1)C4Oc3ccc(C=Cc2cc(O)cc(O)c2)cc3C4c5cc(O)cc(O)c5': '011000111111010001000010000',\n",
       " 'CCCCCCCCCCCCCCCC(O)=O': '011000000001010001000000000',\n",
       " 'O=c3cc(Oc1ccccc1)c2ccccc2[nH]3': '011000111001000101001110010',\n",
       " 'Cc3cc(O)c2C(=O)c1ccccc1C(=O)c2c3': '011000111001010001000010000',\n",
       " 'Oc1ccc(O)c2c(=O)cc(oc12)c3ccccc3': '011000111001000001000010001',\n",
       " 'O=c1cc(oc2ccccc12)c3ccccc3': '011000111001000001000010001',\n",
       " 'CCOc1cccc(c1)C(=O)c2ccc(O)c(O)c2O': '011000110001010001000010000',\n",
       " 'OCC(O)C1OC(=O)C(=C1O)O': '011000100001010001000000000',\n",
       " 'CC(C)CCCC(C)CCCC(C)CCCC2(C)CCc1c(C)c(O)c(C)c(C)c1O2': '011000110000010001000010000',\n",
       " 'OC(=O)C(Cc1ccccc1)N3C(=S)SC(=Cc2cccc(F)c2)C3=O': '011000111001011011100010000',\n",
       " 'O=c2ccc1ccccc1o2': '000000110001000001000010001',\n",
       " 'C1CCCCC#CCCC1': '100000100000010000000000000',\n",
       " 'CC(C)=CCCC(C)(O)C=C': '011000000001010001000000000',\n",
       " 'Cc1cc(O)ccc1O': '011000100000010001000010000',\n",
       " 'COc1ccc(CO)cc1': '011000100000010001000010000',\n",
       " 'CCCOCc1ccccc1': '000000100000010001000010000',\n",
       " 'CCc1occc(=O)c1O': '011000100001010001000010001',\n",
       " 'COc1cc(C=O)ccc1O': '011000100001010001000010000',\n",
       " 'CCCOCC(=O)c1ccccc1': '011000100001010001000010000',\n",
       " 'CC1COC(=O)C2=C(C)CCC12': '011000110001010001000000000',\n",
       " 'CCCc1ccc(cc1)C(O)=O': '011000100001010001000010000',\n",
       " 'CCOc1ccc(OC)cc1': '011000100000010001000010000',\n",
       " 'OC(=O)c4cn(C1CC1)c3cc(N2CCNCC2)c(F)cc3c4=O': '011000111101011011000010010',\n",
       " 'CC(=O)NC2C(O)C(OC1OC(CO)C(O)C(O)C1N)C(CO)OC2OC3C(O)C(N)C(O)OC3CO': '011000111001010011000000000',\n",
       " '[N+](=O)([O-])[O-].[Ag+]': '011111000001100011001101000',\n",
       " 'CC(C)=CCCC(C)=CC(O)CC(C)=CCOc2ccc1ccc(=O)oc1c2': '011000110001010001000010001',\n",
       " 'O=C(C(=O)c1ccco1)c2ccco2': '011000110001010001000010001',\n",
       " 'Oc2cc1ccc(=O)oc1cc2O': '011000110001000001000010001',\n",
       " 'Oc1cc2c(=O)oc3c(O)c(O)cc4c(=O)oc(c1O)c2c34': '011000111101000001000010001',\n",
       " 'O=C1COC(=O)c2ccccc12': '011000110001010001000010000',\n",
       " 'Cc2cc(=O)c1c(O)cc(O)cc1o2': '011000110001010001000010001',\n",
       " 'Oc2cccc(NC(=O)c1ccc(Cl)o1)c2': '011000110001010011000010101'}"
      ]
     },
     "execution_count": 20,
     "metadata": {},
     "output_type": "execute_result"
    }
   ],
   "source": [
    "# main block\n",
    "\n",
    "field_generated = generateFields(smiles_collection) # field for smiles_collection is made\n",
    "\n",
    "# loop through smiles and pass every one of it to generateHotCode then store in an array\n",
    "\n",
    "# using array comprehension\n",
    "final_sol = [generateHotCode(i, field_generated) for i in smiles_collection]\n",
    "final_sol_repsntatn = [''.join(map(str,generateHotCode(i, field_generated))) for i in smiles_collection ]\n",
    "final_sol_repsntatny = dict([(i,''.join(map(str,generateHotCode(i, field_generated)))) for i in smiles_collection])\n",
    "\n",
    "final_sol_repsntatny"
   ]
  },
  {
   "cell_type": "code",
   "execution_count": 21,
   "id": "bf5fe312",
   "metadata": {},
   "outputs": [],
   "source": [
    "# writing the abv to a csv file\n",
    "with open(\"ultra_final_dataset.csv\", \"w\", newline=\"\") as jammer:\n",
    "    writer = csv.writer(jammer)\n",
    "    writer.writerow([\"One-Hot-Encoding\", \"Inhibition Value\"])\n",
    "    writer.writerows(zip(final_sol_repsntatn, inhibition_values))"
   ]
  },
  {
   "cell_type": "code",
   "execution_count": 22,
   "id": "72c46394",
   "metadata": {},
   "outputs": [],
   "source": [
    "# regression model\n",
    "\n",
    "# data = pd.read_csv('ultra_final_dataset.csv')  # load data set\n",
    "# X = data.iloc[:, 0].values.reshape(-1, 1)  # values converts it into a numpy array\n",
    "# Y = data.iloc[:, 1].values.reshape(-1, 1)  # -1 means that calculate the dimension of rows, but have 1 column\n",
    "X, Y = list(map(lambda x: [int(x)], final_sol_repsntatn)), list(map(lambda x: [float(x)], inhibition_values))\n"
   ]
  },
  {
   "cell_type": "code",
   "execution_count": 23,
   "id": "3517cd7d",
   "metadata": {},
   "outputs": [],
   "source": [
    "\n",
    "X_train, X_test, Y_train, Y_test = train_test_split(X, Y, test_size=.2, random_state=0)"
   ]
  },
  {
   "cell_type": "code",
   "execution_count": 24,
   "id": "46a12f76",
   "metadata": {},
   "outputs": [],
   "source": [
    "# ------------------------------------------------------------------------------>\n",
    "# Linear Regression"
   ]
  },
  {
   "cell_type": "code",
   "execution_count": 25,
   "id": "5ee907dd",
   "metadata": {},
   "outputs": [],
   "source": [
    "# creating the model\n",
    "linear_regressor = LinearRegression()\n",
    "# training the model\n",
    "linear_regressor.fit(X_train, Y_train)\n",
    "\n",
    "None"
   ]
  },
  {
   "cell_type": "code",
   "execution_count": 26,
   "id": "4802fa02",
   "metadata": {},
   "outputs": [
    {
     "data": {
      "text/plain": [
       "array([[0.48888375114247],\n",
       "       [0.48888375114246774],\n",
       "       [0.7149328487140031],\n",
       "       [0.4888837262770643],\n",
       "       [0.48888375114244514],\n",
       "       [0.4888837488819765],\n",
       "       [0.4888837488819539],\n",
       "       [0.4888837488819765],\n",
       "       [0.48888374887971603],\n",
       "       [0.46401832280674055],\n",
       "       [0.48888375114244537],\n",
       "       [0.4888837488819765],\n",
       "       [0.48888350022794186],\n",
       "       [0.4888837488819765],\n",
       "       [0.4888837262748038],\n",
       "       [0.4640183454116302]], dtype=object)"
      ]
     },
     "execution_count": 26,
     "metadata": {},
     "output_type": "execute_result"
    }
   ],
   "source": [
    "# predicting the test set results\n",
    "Y_pred_linear = linear_regressor.predict(X_test)\n",
    "Y_pred_linear"
   ]
  },
  {
   "cell_type": "code",
   "execution_count": 27,
   "id": "61db7bef",
   "metadata": {},
   "outputs": [
    {
     "data": {
      "text/plain": [
       "0.10238685803533676"
      ]
     },
     "execution_count": 27,
     "metadata": {},
     "output_type": "execute_result"
    }
   ],
   "source": [
    "# find R2 score a.k.a r squared score \n",
    "# for linear regression\n",
    "r2_score(Y_test, Y_pred_linear)"
   ]
  },
  {
   "cell_type": "code",
   "execution_count": 28,
   "id": "7724b12d",
   "metadata": {},
   "outputs": [],
   "source": [
    "# ------------------------------------------------------------------------------>\n",
    "# Decision Tree"
   ]
  },
  {
   "cell_type": "code",
   "execution_count": 31,
   "id": "c7aee251",
   "metadata": {},
   "outputs": [],
   "source": [
    "decision_regressor = DecisionTreeRegressor(random_state = 0) \n",
    "decision_regressor.fit(X_train, Y_train)\n",
    "None"
   ]
  },
  {
   "cell_type": "code",
   "execution_count": 32,
   "id": "fb0ca57a",
   "metadata": {},
   "outputs": [
    {
     "data": {
      "text/plain": [
       "array([0.57334545, 0.57334545, 0.71246667, 0.22959286, 0.57334545,\n",
       "       0.57334545, 0.57334545, 0.57334545, 0.57334545, 0.1818    ,\n",
       "       0.57334545, 0.57334545, 0.45518   , 0.57334545, 0.22959286,\n",
       "       0.1       ])"
      ]
     },
     "execution_count": 32,
     "metadata": {},
     "output_type": "execute_result"
    }
   ],
   "source": [
    "Y_pred_decision = decision_regressor.predict(X_test)\n",
    "Y_pred_decision"
   ]
  },
  {
   "cell_type": "code",
   "execution_count": 34,
   "id": "1faa4124",
   "metadata": {},
   "outputs": [
    {
     "data": {
      "text/plain": [
       "0.16029089674614305"
      ]
     },
     "execution_count": 34,
     "metadata": {},
     "output_type": "execute_result"
    }
   ],
   "source": [
    "# find R2 score a.k.a r squared score \n",
    "# for decision trees\n",
    "r2_score(Y_test, Y_pred_decision)"
   ]
  },
  {
   "cell_type": "code",
   "execution_count": 35,
   "id": "4f4e44d4",
   "metadata": {},
   "outputs": [],
   "source": [
    "# ------------------------------------------------------------------------------>\n",
    "# Random Forest Regressor"
   ]
  },
  {
   "cell_type": "code",
   "execution_count": 37,
   "id": "e3516c36",
   "metadata": {},
   "outputs": [
    {
     "name": "stderr",
     "output_type": "stream",
     "text": [
      "C:\\Users\\Arun\\AppData\\Local\\Temp\\ipykernel_21796\\982323029.py:2: DataConversionWarning: A column-vector y was passed when a 1d array was expected. Please change the shape of y to (n_samples,), for example using ravel().\n",
      "  rf_regressor.fit(X_train, Y_train)\n"
     ]
    },
    {
     "data": {
      "text/html": [
       "<style>#sk-container-id-2 {color: black;background-color: white;}#sk-container-id-2 pre{padding: 0;}#sk-container-id-2 div.sk-toggleable {background-color: white;}#sk-container-id-2 label.sk-toggleable__label {cursor: pointer;display: block;width: 100%;margin-bottom: 0;padding: 0.3em;box-sizing: border-box;text-align: center;}#sk-container-id-2 label.sk-toggleable__label-arrow:before {content: \"▸\";float: left;margin-right: 0.25em;color: #696969;}#sk-container-id-2 label.sk-toggleable__label-arrow:hover:before {color: black;}#sk-container-id-2 div.sk-estimator:hover label.sk-toggleable__label-arrow:before {color: black;}#sk-container-id-2 div.sk-toggleable__content {max-height: 0;max-width: 0;overflow: hidden;text-align: left;background-color: #f0f8ff;}#sk-container-id-2 div.sk-toggleable__content pre {margin: 0.2em;color: black;border-radius: 0.25em;background-color: #f0f8ff;}#sk-container-id-2 input.sk-toggleable__control:checked~div.sk-toggleable__content {max-height: 200px;max-width: 100%;overflow: auto;}#sk-container-id-2 input.sk-toggleable__control:checked~label.sk-toggleable__label-arrow:before {content: \"▾\";}#sk-container-id-2 div.sk-estimator input.sk-toggleable__control:checked~label.sk-toggleable__label {background-color: #d4ebff;}#sk-container-id-2 div.sk-label input.sk-toggleable__control:checked~label.sk-toggleable__label {background-color: #d4ebff;}#sk-container-id-2 input.sk-hidden--visually {border: 0;clip: rect(1px 1px 1px 1px);clip: rect(1px, 1px, 1px, 1px);height: 1px;margin: -1px;overflow: hidden;padding: 0;position: absolute;width: 1px;}#sk-container-id-2 div.sk-estimator {font-family: monospace;background-color: #f0f8ff;border: 1px dotted black;border-radius: 0.25em;box-sizing: border-box;margin-bottom: 0.5em;}#sk-container-id-2 div.sk-estimator:hover {background-color: #d4ebff;}#sk-container-id-2 div.sk-parallel-item::after {content: \"\";width: 100%;border-bottom: 1px solid gray;flex-grow: 1;}#sk-container-id-2 div.sk-label:hover label.sk-toggleable__label {background-color: #d4ebff;}#sk-container-id-2 div.sk-serial::before {content: \"\";position: absolute;border-left: 1px solid gray;box-sizing: border-box;top: 0;bottom: 0;left: 50%;z-index: 0;}#sk-container-id-2 div.sk-serial {display: flex;flex-direction: column;align-items: center;background-color: white;padding-right: 0.2em;padding-left: 0.2em;position: relative;}#sk-container-id-2 div.sk-item {position: relative;z-index: 1;}#sk-container-id-2 div.sk-parallel {display: flex;align-items: stretch;justify-content: center;background-color: white;position: relative;}#sk-container-id-2 div.sk-item::before, #sk-container-id-2 div.sk-parallel-item::before {content: \"\";position: absolute;border-left: 1px solid gray;box-sizing: border-box;top: 0;bottom: 0;left: 50%;z-index: -1;}#sk-container-id-2 div.sk-parallel-item {display: flex;flex-direction: column;z-index: 1;position: relative;background-color: white;}#sk-container-id-2 div.sk-parallel-item:first-child::after {align-self: flex-end;width: 50%;}#sk-container-id-2 div.sk-parallel-item:last-child::after {align-self: flex-start;width: 50%;}#sk-container-id-2 div.sk-parallel-item:only-child::after {width: 0;}#sk-container-id-2 div.sk-dashed-wrapped {border: 1px dashed gray;margin: 0 0.4em 0.5em 0.4em;box-sizing: border-box;padding-bottom: 0.4em;background-color: white;}#sk-container-id-2 div.sk-label label {font-family: monospace;font-weight: bold;display: inline-block;line-height: 1.2em;}#sk-container-id-2 div.sk-label-container {text-align: center;}#sk-container-id-2 div.sk-container {/* jupyter's `normalize.less` sets `[hidden] { display: none; }` but bootstrap.min.css set `[hidden] { display: none !important; }` so we also need the `!important` here to be able to override the default hidden behavior on the sphinx rendered scikit-learn.org. See: https://github.com/scikit-learn/scikit-learn/issues/21755 */display: inline-block !important;position: relative;}#sk-container-id-2 div.sk-text-repr-fallback {display: none;}</style><div id=\"sk-container-id-2\" class=\"sk-top-container\"><div class=\"sk-text-repr-fallback\"><pre>RandomForestRegressor(random_state=42)</pre><b>In a Jupyter environment, please rerun this cell to show the HTML representation or trust the notebook. <br />On GitHub, the HTML representation is unable to render, please try loading this page with nbviewer.org.</b></div><div class=\"sk-container\" hidden><div class=\"sk-item\"><div class=\"sk-estimator sk-toggleable\"><input class=\"sk-toggleable__control sk-hidden--visually\" id=\"sk-estimator-id-2\" type=\"checkbox\" checked><label for=\"sk-estimator-id-2\" class=\"sk-toggleable__label sk-toggleable__label-arrow\">RandomForestRegressor</label><div class=\"sk-toggleable__content\"><pre>RandomForestRegressor(random_state=42)</pre></div></div></div></div></div>"
      ],
      "text/plain": [
       "RandomForestRegressor(random_state=42)"
      ]
     },
     "execution_count": 37,
     "metadata": {},
     "output_type": "execute_result"
    }
   ],
   "source": [
    "rf_regressor = RandomForestRegressor(n_estimators=100, random_state=42)\n",
    "rf_regressor.fit(X_train, Y_train)"
   ]
  },
  {
   "cell_type": "code",
   "execution_count": 38,
   "id": "4983de0c",
   "metadata": {},
   "outputs": [
    {
     "data": {
      "text/plain": [
       "array([0.57601221, 0.57601221, 0.71891147, 0.22991366, 0.57601221,\n",
       "       0.57601221, 0.57601221, 0.57601221, 0.57601221, 0.258788  ,\n",
       "       0.57601221, 0.57601221, 0.44159845, 0.57601221, 0.22991366,\n",
       "       0.388718  ])"
      ]
     },
     "execution_count": 38,
     "metadata": {},
     "output_type": "execute_result"
    }
   ],
   "source": [
    "Y_pred_rf = rf_regressor.predict(X_test)\n",
    "Y_pred_rf"
   ]
  },
  {
   "cell_type": "code",
   "execution_count": 39,
   "id": "f0793316",
   "metadata": {},
   "outputs": [
    {
     "data": {
      "text/plain": [
       "0.22332624035483062"
      ]
     },
     "execution_count": 39,
     "metadata": {},
     "output_type": "execute_result"
    }
   ],
   "source": [
    "r2_score(Y_test, Y_pred_rf)"
   ]
  }
 ],
 "metadata": {
  "kernelspec": {
   "display_name": "Python 3 (ipykernel)",
   "language": "python",
   "name": "python3"
  },
  "language_info": {
   "codemirror_mode": {
    "name": "ipython",
    "version": 3
   },
   "file_extension": ".py",
   "mimetype": "text/x-python",
   "name": "python",
   "nbconvert_exporter": "python",
   "pygments_lexer": "ipython3",
   "version": "3.10.9"
  }
 },
 "nbformat": 4,
 "nbformat_minor": 5
}
