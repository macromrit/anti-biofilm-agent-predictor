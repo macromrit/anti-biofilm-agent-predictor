{
 "cells": [
  {
   "cell_type": "markdown",
   "id": "5bb453fc",
   "metadata": {},
   "source": [
    "records must be classified based on ANTI-BIOFILM_AGENT, once after segregating<br>\n",
    "and grouping records with values matching as mentioned previously<br>\n",
    "fishout the record with max inhibition value from categorized groups (categorized based on ANTI-BIOFILM-AGENT)<br>\n",
    "push them into a parent file which's comprised of max values fetched from BIOFILM-AGENT categorized csv files<br>\n",
    "<br>\n",
    "UPDATE: planning to plot distribution table for inhibition values"
   ]
  },
  {
   "cell_type": "markdown",
   "id": "162e4003",
   "metadata": {},
   "source": [
    "installing seaborn via pip"
   ]
  },
  {
   "cell_type": "code",
   "execution_count": 1,
   "id": "15510e76",
   "metadata": {},
   "outputs": [
    {
     "name": "stdout",
     "output_type": "stream",
     "text": [
      "Requirement already satisfied: seaborn in c:\\users\\arun\\anaconda3\\lib\\site-packages (0.12.2)\n",
      "Requirement already satisfied: numpy!=1.24.0,>=1.17 in c:\\users\\arun\\anaconda3\\lib\\site-packages (from seaborn) (1.23.5)\n",
      "Requirement already satisfied: pandas>=0.25 in c:\\users\\arun\\anaconda3\\lib\\site-packages (from seaborn) (1.5.3)\n",
      "Requirement already satisfied: matplotlib!=3.6.1,>=3.1 in c:\\users\\arun\\anaconda3\\lib\\site-packages (from seaborn) (3.7.0)\n",
      "Requirement already satisfied: contourpy>=1.0.1 in c:\\users\\arun\\anaconda3\\lib\\site-packages (from matplotlib!=3.6.1,>=3.1->seaborn) (1.0.5)\n",
      "Requirement already satisfied: packaging>=20.0 in c:\\users\\arun\\anaconda3\\lib\\site-packages (from matplotlib!=3.6.1,>=3.1->seaborn) (22.0)\n",
      "Requirement already satisfied: pillow>=6.2.0 in c:\\users\\arun\\anaconda3\\lib\\site-packages (from matplotlib!=3.6.1,>=3.1->seaborn) (9.4.0)\n",
      "Requirement already satisfied: cycler>=0.10 in c:\\users\\arun\\anaconda3\\lib\\site-packages (from matplotlib!=3.6.1,>=3.1->seaborn) (0.11.0)\n",
      "Requirement already satisfied: pyparsing>=2.3.1 in c:\\users\\arun\\anaconda3\\lib\\site-packages (from matplotlib!=3.6.1,>=3.1->seaborn) (3.0.9)\n",
      "Requirement already satisfied: fonttools>=4.22.0 in c:\\users\\arun\\anaconda3\\lib\\site-packages (from matplotlib!=3.6.1,>=3.1->seaborn) (4.25.0)\n",
      "Requirement already satisfied: python-dateutil>=2.7 in c:\\users\\arun\\anaconda3\\lib\\site-packages (from matplotlib!=3.6.1,>=3.1->seaborn) (2.8.2)\n",
      "Requirement already satisfied: kiwisolver>=1.0.1 in c:\\users\\arun\\anaconda3\\lib\\site-packages (from matplotlib!=3.6.1,>=3.1->seaborn) (1.4.4)\n",
      "Requirement already satisfied: pytz>=2020.1 in c:\\users\\arun\\anaconda3\\lib\\site-packages (from pandas>=0.25->seaborn) (2022.7)\n",
      "Requirement already satisfied: six>=1.5 in c:\\users\\arun\\anaconda3\\lib\\site-packages (from python-dateutil>=2.7->matplotlib!=3.6.1,>=3.1->seaborn) (1.16.0)\n"
     ]
    }
   ],
   "source": [
    "! pip install seaborn"
   ]
  },
  {
   "cell_type": "code",
   "execution_count": 18,
   "id": "43f7db8a",
   "metadata": {},
   "outputs": [],
   "source": [
    "import seaborn as sns# for plotting distribution table of inhibition values"
   ]
  },
  {
   "cell_type": "code",
   "execution_count": 19,
   "id": "33d94946",
   "metadata": {},
   "outputs": [],
   "source": [
    "from matplotlib import pyplot as plt # considering the abv cause"
   ]
  },
  {
   "cell_type": "code",
   "execution_count": 20,
   "id": "136fb7b8",
   "metadata": {},
   "outputs": [],
   "source": [
    "import csv # for handling csv files"
   ]
  },
  {
   "cell_type": "code",
   "execution_count": 21,
   "id": "107dce21",
   "metadata": {},
   "outputs": [
    {
     "data": {
      "text/plain": [
       "'1.0'"
      ]
     },
     "execution_count": 21,
     "metadata": {},
     "output_type": "execute_result"
    }
   ],
   "source": [
    "csv.__version__ # checking for a valid version"
   ]
  },
  {
   "cell_type": "code",
   "execution_count": 22,
   "id": "eec0acf6",
   "metadata": {},
   "outputs": [],
   "source": [
    "# file from which data is obtained and processed\n",
    "# .csv extension needn't be mentioned\n",
    "src_file = \"biofilm-ecoli-filtered\" "
   ]
  },
  {
   "cell_type": "code",
   "execution_count": 23,
   "id": "52da0f77",
   "metadata": {},
   "outputs": [],
   "source": [
    "# returns an exhaustable iterator, \n",
    "# so putting those into a list for processing\n",
    "\n",
    "with open(F\"{src_file}.csv\", 'r') as jammer:\n",
    "    src_data = list(csv.reader(jammer)) # delimiter's , by default\n",
    "    \n",
    "# the abv src data will be used in further proceedings"
   ]
  },
  {
   "cell_type": "code",
   "execution_count": 24,
   "id": "c30116d8",
   "metadata": {},
   "outputs": [],
   "source": [
    "# another file has to be created where rows with decrease must be removed\n",
    "# under inhibition col.\n",
    "filtered_data = list(filter(lambda x: True if x[6]!=\"Decrease\" else False, src_data))\n",
    "\n",
    "# in the same file if we encounter unique characters just omit it. (handling +- cases in inhibition)\n",
    "\n",
    "# function to filter out unwanted sybmols and values\n",
    "def ommiter(x: str)->str:\n",
    "    fnl_inhbtn_val = \"\"\n",
    "    for i in x[6]:\n",
    "        fnl_inhbtn_val += i if any((i.isdigit(), i.isspace(), i==\"%\", i==\".\")) else \"\"\n",
    "    \n",
    "    x[6] = fnl_inhbtn_val\n",
    "\n",
    "list(map(ommiter, filtered_data[1:]))# implementing the abv function to whole data-set, which would impact filtered_data\n",
    "\n",
    "# kell = filtered_data[105][6]\n",
    "# kell \n",
    "# for i in kell:\n",
    "#     print(i if any((i.isdigit(), i.isspace(), i==\"%\", i==\".\")) else \"\")\n",
    "None"
   ]
  },
  {
   "cell_type": "code",
   "execution_count": 25,
   "id": "e4584db6",
   "metadata": {},
   "outputs": [],
   "source": [
    "# writing down the finalized, classified data into csv file \n",
    "finalised_csv_file_name = \"classified_sheet_eliminated_specialChars_Decrease\"\n",
    "with open(F\"{finalised_csv_file_name}.csv\", 'w', newline=\"\") as jammer:\n",
    "    writer = csv.writer(jammer, delimiter=\",\")\n",
    "    writer.writerows(filtered_data)"
   ]
  },
  {
   "cell_type": "code",
   "execution_count": 26,
   "id": "ff7631cc",
   "metadata": {
    "scrolled": false
   },
   "outputs": [],
   "source": [
    "# using a dictionary\n",
    "# to have keys as unique anti-biofilm-agent names\n",
    "# the values would be a list containing another list\n",
    "# of rows where col2 or idx1 in it matches the key\n",
    "# holding list of rows.\n",
    "# if no such key exists, then create a new key\n",
    "# and store the row in list corresponding to that key\n",
    "\n",
    "source_dict = dict() \n",
    "\n",
    "for i in filtered_data:\n",
    "    if i[1] in source_dict: # i[1]'s matched with keys in src_dict\n",
    "        source_dict[i[1]].append(i)\n",
    "    else:\n",
    "        # initializing a key pointing a list with a row in it\n",
    "        source_dict[i[1]] = [i]\n",
    "\n",
    "        \n",
    "# source_dict # ANTI-BIO-FILM AGENT"
   ]
  },
  {
   "cell_type": "code",
   "execution_count": 27,
   "id": "b9800a03",
   "metadata": {},
   "outputs": [],
   "source": [
    "# with classified/grouped rows under unqique anti-biofilm-agent keys\n",
    "# every grouped content of keys in source_dict should be put in csv files with having group's key as filename\n",
    "reserve = source_dict.get(\"ANTI-BIO-FILM AGENT\")[0]\n",
    "del source_dict[\"ANTI-BIO-FILM AGENT\"]\n",
    "\n",
    "for file_name in source_dict: # traversin \n",
    "    with open(F\"anti-biofilm-agents/{file_name}.csv\", 'w', newline=\"\") as jammer:\n",
    "        holder = csv.writer(jammer) # de-limiter's ',' by default\n",
    "        holder.writerow(reserve)\n",
    "        holder.writerows(source_dict[file_name])"
   ]
  },
  {
   "cell_type": "code",
   "execution_count": 28,
   "id": "5006a8bf",
   "metadata": {},
   "outputs": [],
   "source": [
    "# after classifying and writing the grouped data into seperate files with file names being biofilm agents\n",
    "# now the row with max inhibition value from every group must be took and put in a file\n",
    "\n",
    "file_name_with_max_rows = \"data_sheet_max_row_vals_unique_biofilm_agents\"\n",
    "\n",
    "# finding max data for everykey and putting it inside an array\n",
    "final_arr = list()\n",
    "\n",
    "for key in source_dict:\n",
    "        final_arr.append(max(source_dict[key], key=lambda x: float(x[6][:-2])))\n",
    "\n",
    "with open(F\"{file_name_with_max_rows}.csv\", 'w', newline='') as jammer:\n",
    "    holder = csv.writer(jammer) # by default delimiter's ','\n",
    "    # putting column headings in\n",
    "    holder.writerow(reserve)\n",
    "    # putting max data extracted in\n",
    "    holder.writerows(final_arr)\n",
    "    "
   ]
  },
  {
   "cell_type": "code",
   "execution_count": 29,
   "id": "dc681f0a",
   "metadata": {},
   "outputs": [],
   "source": [
    "# plotting distribution graph for inhibition data-set\n",
    "\n",
    "# preparing data for distribution of inhibition vals\n",
    "dist_data = list(map(lambda x : float(x[6][:-2]), filtered_data[1:])) # gotta exempt first row, it has stuff to do with headings"
   ]
  },
  {
   "cell_type": "code",
   "execution_count": 35,
   "id": "b8a59bff",
   "metadata": {},
   "outputs": [
    {
     "data": {
      "text/plain": [
       "Text(-8.305555555555555, 0.5, 'frequency of inhibition values of domains')"
      ]
     },
     "execution_count": 35,
     "metadata": {},
     "output_type": "execute_result"
    },
    {
     "data": {
      "image/png": "[encoded data removed]",
      "text/plain": [
       "<Figure size 500x500 with 1 Axes>"
      ]
     },
     "metadata": {},
     "output_type": "display_data"
    }
   ],
   "source": [
    "# plotting it\n",
    "sns.displot(dist_data, kind='hist', color='orange', kde=True, stat=\"density\")\n",
    "plt.xlabel(\"inhibition values\")\n",
    "plt.ylabel(\"frequency of inhibition values of domains\")"
   ]
  }
 ],
 "metadata": {
  "kernelspec": {
   "display_name": "Python 3 (ipykernel)",
   "language": "python",
   "name": "python3"
  },
  "language_info": {
   "codemirror_mode": {
    "name": "ipython",
    "version": 3
   },
   "file_extension": ".py",
   "mimetype": "text/x-python",
   "name": "python",
   "nbconvert_exporter": "python",
   "pygments_lexer": "ipython3",
   "version": "3.10.9"
  }
 },
 "nbformat": 4,
 "nbformat_minor": 5
}
